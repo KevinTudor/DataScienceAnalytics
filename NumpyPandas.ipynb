{
  "cells": [
    {
      "cell_type": "markdown",
      "metadata": {
        "colab_type": "text",
        "id": "view-in-github"
      },
      "source": [
        "<a href=\"https://colab.research.google.com/github/KevinTudor/DataScienceAnalytics/blob/main/NumpyPandas.ipynb\" target=\"_parent\"><img src=\"https://colab.research.google.com/assets/colab-badge.svg\" alt=\"Open In Colab\"/></a>"
      ]
    },
    {
      "cell_type": "markdown",
      "id": "Ji4rS0uYYTE0",
      "metadata": {
        "id": "Ji4rS0uYYTE0"
      },
      "source": [
        "\n",
        "---\n",
        "\n",
        "**Kevin Tudor**\n",
        "\n",
        "**CAP 4773-001 Intro Data Science**\n",
        "\n",
        "**Assignment 2**\n",
        "\n",
        "**Due: 02/24/23**\n",
        "\n",
        "---\n",
        "\n",
        "\n",
        "\n",
        "Description:\n",
        "Learn to use python libraries such as numpy and pandas to preprocess and manipulate data on google collab.\n",
        "\n",
        "Option 2:\n",
        "Upload a google colab or jupyter notebook file that you previously executed\n",
        "so that we can see the output (a .html file).\n",
        "\n",
        "---\n",
        "\n"
      ]
    },
    {
      "cell_type": "markdown",
      "id": "X9sbg8Vbcjml",
      "metadata": {
        "id": "X9sbg8Vbcjml"
      },
      "source": [
        "#Import libraries here\n"
      ]
    },
    {
      "cell_type": "code",
      "execution_count": 1,
      "id": "a9d483d8",
      "metadata": {
        "id": "a9d483d8"
      },
      "outputs": [],
      "source": [
        "import numpy as np\n",
        "import pandas as pd"
      ]
    },
    {
      "cell_type": "markdown",
      "id": "Mt8u9OiKY-20",
      "metadata": {
        "id": "Mt8u9OiKY-20"
      },
      "source": [
        "#Q1:Read the  data.csv using numpy.\n",
        "hint: use np.genfromtxt() function in numpy. You also need to define columns names"
      ]
    },
    {
      "cell_type": "code",
      "execution_count": 3,
      "id": "b23f7327",
      "metadata": {
        "id": "b23f7327"
      },
      "outputs": [],
      "source": [
        "#read data using numpy\n",
        "raw_data = np.genfromtxt(\"datasets/data.csv\", dtype = 'float', names = True, delimiter=\",\", usecols = (0,1,2,3))\n",
        "columns = [\"Duration\", \"Pulse\", \"Maxpulse\", \"Calories\"]"
      ]
    },
    {
      "cell_type": "markdown",
      "id": "XGO87p13ZXyX",
      "metadata": {
        "id": "XGO87p13ZXyX"
      },
      "source": [
        "#Q2: Create a numpy array\n",
        "Select pulse column from the dataset and name it \"Pulse\"\n"
      ]
    },
    {
      "cell_type": "code",
      "execution_count": 4,
      "id": "b85b6e2b",
      "metadata": {
        "colab": {
          "base_uri": "https://localhost:8080/"
        },
        "id": "b85b6e2b",
        "outputId": "6f5bbd5d-bdeb-44ae-a8a3-53108cf75e4e"
      },
      "outputs": [
        {
          "name": "stdout",
          "output_type": "stream",
          "text": [
            "[110. 117. 103. 109. 117. 102. 110. 104. 109.  98. 103. 100. 106. 104.\n",
            "  98.  98. 100.  90. 103.  97. 108.  nan 130. 105. 102. 100.  92. 103.\n",
            " 100. 102.  92.  90. 101.  93. 107. 114. 102. 100. 100. 104.  90.  nan\n",
            " 100. 111. 111.  99. 109. 111. 108. 111. 107. 123. 106. 118. 136. 121.\n",
            " 118. 115. 153. 123. 108. 110. 109. 118. 110.  90. 105. 107. 106. 108.\n",
            "  97. 109. 100.  97. 114.  98. 105. 110. 100. 100. 159.  nan 103. 100.\n",
            " 100. 151. 102. 100. 129.  83. 101. 107.  90.  80. 150. 151.  95. 152.\n",
            " 109.  93.  95.  90.  90.  90.  92.  93.  90.  90.  90. 137. 102. 107.\n",
            " 124. 100. 108. 108. 116.  97. 105. 103. 112.  nan 119. 107. 111.  98.\n",
            "  97. 109.  99. 114. 104. 107. 103. 106. 103. 136. 117. 115. 113. 141.\n",
            " 108.  97. 100. 122. 136. 106. 107. 112. 103. 110. 106. 109. 109. 150.\n",
            "  nan 111.  97. 100. 114.  80.  85.  90.  95. 100. 105. 110. 115. 120.\n",
            " 125.]\n"
          ]
        }
      ],
      "source": [
        "Pulse = np.array(raw_data[\"Pulse\"])\n",
        "print(Pulse)"
      ]
    },
    {
      "cell_type": "markdown",
      "id": "lpoaLAFgZYW-",
      "metadata": {
        "id": "lpoaLAFgZYW-"
      },
      "source": [
        "#Q3 Create a numpy array\n",
        "Select Maxpulse column from the dataset and name it \"MaxPulse\"\n"
      ]
    },
    {
      "cell_type": "code",
      "execution_count": 5,
      "id": "47947c57",
      "metadata": {
        "colab": {
          "base_uri": "https://localhost:8080/"
        },
        "id": "47947c57",
        "outputId": "dd4e691e-4afc-4886-f696-40cac6e64623"
      },
      "outputs": [
        {
          "name": "stdout",
          "output_type": "stream",
          "text": [
            "[130. 145. 135. 175. 148. 127. 136. 134. 133. 124. 147. 120. 128. 132.\n",
            " 123. 120. 120. 112. 123. 125. 131. 119. 101. 132. 126. 120. 118. 132.\n",
            " 132. 129. 115. 112. 124. 113. 136. 140. 127. 120. 120. 129. 112. 126.\n",
            " 122. 138. 131. 119. 153. 136. 129. 139. 136. 146. 130. 151. 175. 146.\n",
            " 121. 144. 172. 152. 160. 137. 135. 141. 130. 130. 135. 130. 136. 143.\n",
            " 129. 153. 127.  nan 146. 125. 134. 141. 130. 131. 182. 169. 139. 130.\n",
            " 120. 170. 136. 157.  nan 107. 127. 137. 107. 100. 171. 168. 128. 168.\n",
            " 131. 124. 112. 110. 100. 100. 108. 128. 120. 120. 120. 184. 124. 124.\n",
            " 139. 120. 131. 151. 141. 122. 125. 124. 137. 120. 169. 127. 151. 122.\n",
            " 124. 127. 125. 151. 134. 138. 133. 132.  nan 156. 143. 137. 138. 162.\n",
            " 135. 127. 120. 149. 170. 126. 136. 146. 127. 150. 134. 129. 138. 167.\n",
            " 128. 151. 131. 120. 150. 120. 120. 130.  nan 140. 140. 145. 145. 150.\n",
            " 150.]\n"
          ]
        }
      ],
      "source": [
        "MaxPulse = np.array(raw_data[\"Maxpulse\"])\n",
        "print(MaxPulse)"
      ]
    },
    {
      "cell_type": "markdown",
      "id": "gWG_K0W8ZY6X",
      "metadata": {
        "id": "gWG_K0W8ZY6X"
      },
      "source": [
        "#Q4 Add Pulse and MaxPulse using np.sum() and np.add()\n",
        "What is the difference between summation and addition?\n",
        "Declare a new variable and save the result of np.add()\n",
        "\n"
      ]
    },
    {
      "cell_type": "code",
      "execution_count": 6,
      "id": "a7812d23",
      "metadata": {
        "colab": {
          "base_uri": "https://localhost:8080/"
        },
        "id": "a7812d23",
        "outputId": "66cb16f7-8491-45e8-f0ca-8edfb6dc6d93"
      },
      "outputs": [
        {
          "name": "stdout",
          "output_type": "stream",
          "text": [
            "Sum: [240. 262. 238. 284. 265. 229. 246. 238. 242. 222. 250. 220. 234. 236.\n",
            " 221. 218. 220. 202. 226. 222. 239.  nan 231. 237. 228. 220. 210. 235.\n",
            " 232. 231. 207. 202. 225. 206. 243. 254. 229. 220. 220. 233. 202.  nan\n",
            " 222. 249. 242. 218. 262. 247. 237. 250. 243. 269. 236. 269. 311. 267.\n",
            " 239. 259. 325. 275. 268. 247. 244. 259. 240. 220. 240. 237. 242. 251.\n",
            " 226. 262. 227.  nan 260. 223. 239. 251. 230. 231. 341.  nan 242. 230.\n",
            " 220. 321. 238. 257.  nan 190. 228. 244. 197. 180. 321. 319. 223. 320.\n",
            " 240. 217. 207. 200. 190. 190. 200. 221. 210. 210. 210. 321. 226. 231.\n",
            " 263. 220. 239. 259. 257. 219. 230. 227. 249.  nan 288. 234. 262. 220.\n",
            " 221. 236. 224. 265. 238. 245. 236. 238.  nan 292. 260. 252. 251. 303.\n",
            " 243. 224. 220. 271. 306. 232. 243. 258. 230. 260. 240. 238. 247. 317.\n",
            "  nan 262. 228. 220. 264. 200. 205. 220.  nan 240. 245. 255. 260. 270.\n",
            " 275.] \n",
            "\n",
            "Add: [240. 262. 238. 284. 265. 229. 246. 238. 242. 222. 250. 220. 234. 236.\n",
            " 221. 218. 220. 202. 226. 222. 239.  nan 231. 237. 228. 220. 210. 235.\n",
            " 232. 231. 207. 202. 225. 206. 243. 254. 229. 220. 220. 233. 202.  nan\n",
            " 222. 249. 242. 218. 262. 247. 237. 250. 243. 269. 236. 269. 311. 267.\n",
            " 239. 259. 325. 275. 268. 247. 244. 259. 240. 220. 240. 237. 242. 251.\n",
            " 226. 262. 227.  nan 260. 223. 239. 251. 230. 231. 341.  nan 242. 230.\n",
            " 220. 321. 238. 257.  nan 190. 228. 244. 197. 180. 321. 319. 223. 320.\n",
            " 240. 217. 207. 200. 190. 190. 200. 221. 210. 210. 210. 321. 226. 231.\n",
            " 263. 220. 239. 259. 257. 219. 230. 227. 249.  nan 288. 234. 262. 220.\n",
            " 221. 236. 224. 265. 238. 245. 236. 238.  nan 292. 260. 252. 251. 303.\n",
            " 243. 224. 220. 271. 306. 232. 243. 258. 230. 260. 240. 238. 247. 317.\n",
            "  nan 262. 228. 220. 264. 200. 205. 220.  nan 240. 245. 255. 260. 270.\n",
            " 275.]\n"
          ]
        }
      ],
      "source": [
        "\"\"\"\n",
        "Summation adds by the given axis while addition adds by element.\n",
        "\"\"\"\n",
        "\n",
        "pulseSum = np.sum([Pulse,MaxPulse], axis =0)\n",
        "pulseAdd = np.add(Pulse,MaxPulse)\n",
        "\n",
        "print(\"Sum:\", pulseSum, \"\\n\\nAdd:\", pulseAdd)"
      ]
    },
    {
      "cell_type": "markdown",
      "id": "Rx9X6TXgZZfm",
      "metadata": {
        "id": "Rx9X6TXgZZfm"
      },
      "source": [
        "#Q5 Find and print all the indexes\n",
        "Where Pulse = 100\n"
      ]
    },
    {
      "cell_type": "code",
      "execution_count": 7,
      "id": "657211ee",
      "metadata": {
        "colab": {
          "base_uri": "https://localhost:8080/"
        },
        "id": "657211ee",
        "outputId": "d4a59396-6e9c-4327-e7ea-aa7cb603c9f1"
      },
      "outputs": [
        {
          "name": "stdout",
          "output_type": "stream",
          "text": [
            "(array([ 11,  16,  25,  28,  37,  38,  42,  72,  78,  79,  83,  84,  87,\n",
            "       113, 142, 157, 163], dtype=int64),)\n"
          ]
        }
      ],
      "source": [
        "pulse_index = np.where(Pulse == 100)\n",
        "print(pulse_index)"
      ]
    },
    {
      "cell_type": "markdown",
      "id": "7JZqaqP3ZaJi",
      "metadata": {
        "id": "7JZqaqP3ZaJi"
      },
      "source": [
        "#Q6 Filter rows\n",
        "Where Pulse is greater than 130 and Calories are greater than 400\n"
      ]
    },
    {
      "cell_type": "code",
      "execution_count": 8,
      "id": "5be48b29",
      "metadata": {
        "colab": {
          "base_uri": "https://localhost:8080/"
        },
        "id": "5be48b29",
        "outputId": "80975412-72f6-43e7-94f5-846eab8b84bb"
      },
      "outputs": [
        {
          "name": "stdout",
          "output_type": "stream",
          "text": [
            "[(210., 137., 184., 1860.4) ( 60., 136., 170.,  470.2)]\n"
          ]
        }
      ],
      "source": [
        "Calories = np.array(raw_data[\"Calories\"])\n",
        "filter_index = raw_data[((Pulse > 130) & (Calories > 400))]\n",
        "print(filter_index)"
      ]
    },
    {
      "cell_type": "markdown",
      "id": "cs3PTPV1cxT7",
      "metadata": {
        "id": "cs3PTPV1cxT7"
      },
      "source": [
        "# Pandas exercise"
      ]
    },
    {
      "cell_type": "markdown",
      "id": "FsaC4OgTZa7w",
      "metadata": {
        "id": "FsaC4OgTZa7w"
      },
      "source": [
        "#Q7 Create three Pandas series from numpyarray.\n",
        "Create three numpy arrays by selecting column 2,3,4 from the dataset."
      ]
    },
    {
      "cell_type": "code",
      "execution_count": 9,
      "id": "3mBPVgGsZq-W",
      "metadata": {
        "id": "3mBPVgGsZq-W"
      },
      "outputs": [],
      "source": [
        "#create numpy arrays\n",
        "s_c2 = pd.Series(Pulse)\n",
        "s_c3 = pd.Series(MaxPulse)\n",
        "s_c4 = pd.Series(Calories)"
      ]
    },
    {
      "cell_type": "markdown",
      "id": "MY7ypre7Zrgc",
      "metadata": {
        "id": "MY7ypre7Zrgc"
      },
      "source": [
        "# Q8 Create a new dataframe\n",
        "'df' from pandas series which were created in Q6."
      ]
    },
    {
      "cell_type": "code",
      "execution_count": 10,
      "id": "745d7afd",
      "metadata": {
        "colab": {
          "base_uri": "https://localhost:8080/"
        },
        "id": "745d7afd",
        "outputId": "1ef03211-79da-46b1-a2a0-9eb7df4c35a4"
      },
      "outputs": [
        {
          "name": "stdout",
          "output_type": "stream",
          "text": [
            "   Duration  Pulse  Maxpulse  Calories\n",
            "0     210.0  137.0     184.0    1860.4\n",
            "1      60.0  136.0     170.0     470.2\n"
          ]
        }
      ],
      "source": [
        "#define column names and index\n",
        "data_df = pd.DataFrame(data = filter_index)\n",
        "data_df.index = np.arange(0, len(filter_index))\n",
        "#print\n",
        "print(data_df)"
      ]
    },
    {
      "cell_type": "markdown",
      "id": "NgHCuSegZbWW",
      "metadata": {
        "id": "NgHCuSegZbWW"
      },
      "source": [
        "#Q9 Read nycflights.csv file using pandas.\n",
        "Create a new dataframe by selecting dep_time, dep_delay, arr_time, arr_delay, tailnum and name it newyork_flight_new. Display with the first five entries\n",
        "\n",
        "show the first five entries\n"
      ]
    },
    {
      "cell_type": "code",
      "execution_count": 12,
      "id": "3a82d3ec",
      "metadata": {
        "colab": {
          "base_uri": "https://localhost:8080/"
        },
        "id": "3a82d3ec",
        "outputId": "fdd90c9d-ea65-411d-f1f2-dddd8a07311f"
      },
      "outputs": [
        {
          "name": "stdout",
          "output_type": "stream",
          "text": [
            "   dep_time  dep_delay  arr_time  arr_delay tailnum\n",
            "0       940         15      1216         -4  N626VA\n",
            "1      1657         -3      2104         10  N3760C\n",
            "2       859         -1      1238         11  N712TW\n",
            "3      1841         -4      2122        -34  N914DL\n",
            "4      1102         -3      1230         -8  N823AY\n"
          ]
        }
      ],
      "source": [
        "#Create a new dataframe\n",
        "newyork_flight_new = pd.read_csv('datasets/nycflights.csv', usecols = (3,4,5,6,8))\n",
        "\n",
        "#show the first five entries\n",
        "print(newyork_flight_new[0:5])"
      ]
    },
    {
      "cell_type": "markdown",
      "id": "lc1_n7ekZbum",
      "metadata": {
        "id": "lc1_n7ekZbum"
      },
      "source": [
        "#Q10 Filter newyork_flight_new\n",
        "Selecting rows where departure time is greater than 2000 and name it dep_time_2000.\n",
        "\n",
        "How many rows were deleted?"
      ]
    },
    {
      "cell_type": "code",
      "execution_count": 13,
      "id": "a5cd8be1",
      "metadata": {
        "colab": {
          "base_uri": "https://localhost:8080/"
        },
        "id": "a5cd8be1",
        "outputId": "dec3a6a3-819a-4720-989d-665b97d8e18c"
      },
      "outputs": [
        {
          "name": "stdout",
          "output_type": "stream",
          "text": [
            "29166 Rows Deleted\n"
          ]
        }
      ],
      "source": [
        "#Selecting rows where departure time is greater than 2000\n",
        "dep_time_2000 = newyork_flight_new[newyork_flight_new['dep_time'] > 2000]\n",
        "#print(dep_time_2000)\n",
        "print(len(newyork_flight_new)-len(dep_time_2000), \"Rows Deleted\")\n"
      ]
    },
    {
      "cell_type": "markdown",
      "id": "qYt8MS0hZcLs",
      "metadata": {
        "id": "qYt8MS0hZcLs"
      },
      "source": [
        "#Q11 Do we have any missing values in dep_delay?\n",
        "If yes replace the missing values with the median of dep_delay.\n",
        "\n",
        "Hint: replace the missing values in dep_time_2000."
      ]
    },
    {
      "cell_type": "code",
      "execution_count": 14,
      "id": "3fb54d4b",
      "metadata": {
        "colab": {
          "base_uri": "https://localhost:8080/"
        },
        "id": "3fb54d4b",
        "outputId": "fc193329-9d5a-409a-9460-abf719afe368"
      },
      "outputs": [
        {
          "name": "stderr",
          "output_type": "stream",
          "text": [
            "C:\\Users\\drago\\AppData\\Local\\Temp\\ipykernel_18652\\3947092036.py:1: SettingWithCopyWarning: \n",
            "A value is trying to be set on a copy of a slice from a DataFrame.\n",
            "Try using .loc[row_indexer,col_indexer] = value instead\n",
            "\n",
            "See the caveats in the documentation: https://pandas.pydata.org/pandas-docs/stable/user_guide/indexing.html#returning-a-view-versus-a-copy\n",
            "  dep_time_2000[\"dep_delay\"] = dep_time_2000[\"dep_delay\"].fillna(dep_time_2000[\"dep_delay\"].median())\n"
          ]
        }
      ],
      "source": [
        "dep_time_2000[\"dep_delay\"] = dep_time_2000[\"dep_delay\"].fillna(dep_time_2000[\"dep_delay\"].median())\n"
      ]
    },
    {
      "cell_type": "markdown",
      "id": "pqY3QaCqZclq",
      "metadata": {
        "id": "pqY3QaCqZclq"
      },
      "source": [
        "#Q12 create a new dataframe\n",
        "By adding dep_delay and arr_delay and name it \"total_delay\".\n",
        "\n",
        "Add new column \"total_delay\" to the dep_time_2000"
      ]
    },
    {
      "cell_type": "code",
      "execution_count": 15,
      "id": "f292f5b4",
      "metadata": {
        "colab": {
          "base_uri": "https://localhost:8080/"
        },
        "id": "f292f5b4",
        "outputId": "bdfad10c-9289-4b94-eed4-1f268819d7fa"
      },
      "outputs": [
        {
          "name": "stdout",
          "output_type": "stream",
          "text": [
            "       dep_time  dep_delay  arr_time  arr_delay tailnum  total_delay\n",
            "13         2054        115      2256         91  N919AT          206\n",
            "15         2024         37      2141         29  N17115           66\n",
            "23         2310        105       201        127  N506JB          232\n",
            "27         2253        123         5        101  N14562          224\n",
            "38         2231        121      2332         96  N8488D          217\n",
            "...         ...        ...       ...        ...     ...          ...\n",
            "32672      2217         47       140         73  N516JB          120\n",
            "32694      2100         20      2213         13  N817MQ           33\n",
            "32703      2301         92         1         81  N76517          173\n",
            "32709      2312        217       220        214  N529UA          431\n",
            "32710      2221         26       118         32  N651JB           58\n",
            "\n",
            "[3569 rows x 6 columns]\n"
          ]
        },
        {
          "name": "stderr",
          "output_type": "stream",
          "text": [
            "C:\\Users\\drago\\AppData\\Local\\Temp\\ipykernel_18652\\1850836196.py:1: SettingWithCopyWarning: \n",
            "A value is trying to be set on a copy of a slice from a DataFrame.\n",
            "Try using .loc[row_indexer,col_indexer] = value instead\n",
            "\n",
            "See the caveats in the documentation: https://pandas.pydata.org/pandas-docs/stable/user_guide/indexing.html#returning-a-view-versus-a-copy\n",
            "  dep_time_2000['total_delay'] = dep_time_2000['dep_delay'] + dep_time_2000['arr_delay']\n"
          ]
        }
      ],
      "source": [
        "dep_time_2000['total_delay'] = dep_time_2000['dep_delay'] + dep_time_2000['arr_delay']\n",
        "print(dep_time_2000)"
      ]
    }
  ],
  "metadata": {
    "colab": {
      "include_colab_link": true,
      "provenance": []
    },
    "kernelspec": {
      "display_name": "Python 3 (ipykernel)",
      "language": "python",
      "name": "python3"
    },
    "language_info": {
      "codemirror_mode": {
        "name": "ipython",
        "version": 3
      },
      "file_extension": ".py",
      "mimetype": "text/x-python",
      "name": "python",
      "nbconvert_exporter": "python",
      "pygments_lexer": "ipython3",
      "version": "3.10.7"
    }
  },
  "nbformat": 4,
  "nbformat_minor": 5
}
