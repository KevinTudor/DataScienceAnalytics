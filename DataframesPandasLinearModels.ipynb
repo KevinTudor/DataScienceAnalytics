{
  "nbformat": 4,
  "nbformat_minor": 0,
  "metadata": {
    "colab": {
      "provenance": [],
      "include_colab_link": true
    },
    "kernelspec": {
      "name": "python3",
      "display_name": "Python 3"
    },
    "language_info": {
      "name": "python"
    }
  },
  "cells": [
    {
      "cell_type": "markdown",
      "metadata": {
        "id": "view-in-github",
        "colab_type": "text"
      },
      "source": [
        "<a href=\"https://colab.research.google.com/github/KevinTudor/DataScienceAnalytics/blob/main/DataframesPandasLinearModels.ipynb\" target=\"_parent\"><img src=\"https://colab.research.google.com/assets/colab-badge.svg\" alt=\"Open In Colab\"/></a>"
      ]
    },
    {
      "cell_type": "markdown",
      "source": [
        "\n",
        "---\n",
        "\n",
        "**Kevin Tudor**\n",
        "\n",
        "**CAP 4773-001 Intro Data Science**\n",
        "\n",
        "**Assignment 3**\n",
        "\n",
        "**Due: 04/22/23**\n",
        "\n",
        "---\n",
        "\n",
        "\n",
        "\n",
        "Description:\n",
        "To import and manipulate data using dataframes, and pandas then finding/comparing different linear and multiple linear models\n",
        "\n",
        "Option 2:\n",
        "Upload a Google colab or jupyter notebook file that you previously executed so that we can see the output (a .html file). In either case, your files must be named properly your_name_assignment#.py/pdf/html/etc.,\n",
        "\n",
        "---\n",
        "\n"
      ],
      "metadata": {
        "id": "0HwI04mncvGb"
      }
    },
    {
      "cell_type": "markdown",
      "source": [
        "#Import libraries\n"
      ],
      "metadata": {
        "id": "SBUTzPlPeVV0"
      }
    },
    {
      "cell_type": "code",
      "source": [
        "import numpy as np\n",
        "import pandas as pd\n",
        "from pandas import read_csv as csv\n",
        "from sklearn.linear_model import LinearRegression"
      ],
      "metadata": {
        "id": "9sK8gAuleZg-"
      },
      "execution_count": null,
      "outputs": []
    },
    {
      "cell_type": "markdown",
      "source": [
        "#Q1: Import\n",
        "Import the NYC flights dataset using pandas name it \"df\"\n",
        "Use the query function to filter all the rows with:\n",
        "\n",
        "airtime greater than 120 minutes and\n",
        "\n",
        "distance greater than 700 km"
      ],
      "metadata": {
        "id": "t1NAmr59d0F9"
      }
    },
    {
      "cell_type": "code",
      "source": [
        "df = pd.read_csv('nycflights.csv')\n",
        "df = df[(df['air_time'] > 120) & (df['distance'] > 700)]\n",
        "print(df)"
      ],
      "metadata": {
        "colab": {
          "base_uri": "https://localhost:8080/"
        },
        "id": "CXJkofr5eaF_",
        "outputId": "d0ae0e92-82b5-4fd0-be04-b64a5ec7a67d"
      },
      "execution_count": null,
      "outputs": [
        {
          "output_type": "stream",
          "name": "stdout",
          "text": [
            "       year  month  day  dep_time  dep_delay  arr_time  arr_delay carrier  \\\n",
            "0      2013      6   30       940       15.0      1216         -4      VX   \n",
            "1      2013      5    7      1657       -3.0      2104         10      DL   \n",
            "2      2013     12    8       859       -1.0      1238         11      DL   \n",
            "3      2013      5   14      1841       -4.0      2122        -34      DL   \n",
            "5      2013      1    1      1817       -3.0      2008          3      AA   \n",
            "...     ...    ...  ...       ...        ...       ...        ...     ...   \n",
            "32720  2013      4   17      1023       -7.0      1341        -24      VX   \n",
            "32722  2013      7    9       600        0.0       822         -8      AA   \n",
            "32726  2013      2    4      1558       -2.0      1854          4      DL   \n",
            "32731  2013      7    7       812       -3.0      1043          8      DL   \n",
            "32732  2013      9    3      1057       -1.0      1319        -19      UA   \n",
            "\n",
            "      tailnum  flight origin dest  air_time  distance  hour  minute  \n",
            "0      N626VA     407    JFK  LAX       313    2475.0     9      40  \n",
            "1      N3760C     329    JFK  SJU       216    1598.0    16      57  \n",
            "2      N712TW     422    JFK  LAX       376    2475.0     8      59  \n",
            "3      N914DL    2391    JFK  TPA       135    1005.0    18      41  \n",
            "5      N3AXAA     353    LGA  ORD       138     733.0    18      17  \n",
            "...       ...     ...    ...  ...       ...       ...   ...     ...  \n",
            "32720  N842VA     187    EWR  SFO       351    2565.0    10      23  \n",
            "32722  N3ERAA     707    LGA  DFW       178    1389.0     6       0  \n",
            "32726  N3737C    1331    JFK  DEN       238    1626.0    15      58  \n",
            "32731  N6713Y    1429    JFK  LAS       286    2248.0     8      12  \n",
            "32732  N77871    1545    EWR  IAH       180    1400.0    10      57  \n",
            "\n",
            "[17839 rows x 16 columns]\n"
          ]
        }
      ]
    },
    {
      "cell_type": "markdown",
      "source": [
        "#Q2: Create a new dataframe\n",
        "Create a new data frame by dep_time, dep_delay, arr_time, arr_delay, tail\n",
        "num, and destination using filter() and name it \"df1\".\n"
      ],
      "metadata": {
        "id": "e1YLCJ7Gd5WX"
      }
    },
    {
      "cell_type": "code",
      "source": [
        "df1 = df.filter((['dep_time','dep_delay','arr_time','arr_delay','tailnum','dest']))\n",
        "print(df1)"
      ],
      "metadata": {
        "colab": {
          "base_uri": "https://localhost:8080/"
        },
        "id": "qHVyIVQHeaeS",
        "outputId": "c493f412-2bbb-4519-cf4c-a1d766316b0e"
      },
      "execution_count": null,
      "outputs": [
        {
          "output_type": "stream",
          "name": "stdout",
          "text": [
            "       dep_time  dep_delay  arr_time  arr_delay tailnum dest\n",
            "0           940       15.0      1216         -4  N626VA  LAX\n",
            "1          1657       -3.0      2104         10  N3760C  SJU\n",
            "2           859       -1.0      1238         11  N712TW  LAX\n",
            "3          1841       -4.0      2122        -34  N914DL  TPA\n",
            "5          1817       -3.0      2008          3  N3AXAA  ORD\n",
            "...         ...        ...       ...        ...     ...  ...\n",
            "32720      1023       -7.0      1341        -24  N842VA  SFO\n",
            "32722       600        0.0       822         -8  N3ERAA  DFW\n",
            "32726      1558       -2.0      1854          4  N3737C  DEN\n",
            "32731       812       -3.0      1043          8  N6713Y  LAS\n",
            "32732      1057       -1.0      1319        -19  N77871  IAH\n",
            "\n",
            "[17839 rows x 6 columns]\n"
          ]
        }
      ]
    },
    {
      "cell_type": "markdown",
      "source": [
        "#Q3: Add a new column\n",
        "Add a new column “total_delay” to df1 using assign(). Total_delay can be\n",
        "calculated by adding dep_delay and arr_delay\n"
      ],
      "metadata": {
        "id": "wkXBguEWd6eH"
      }
    },
    {
      "cell_type": "code",
      "source": [
        "df1 = df1.assign(total_delay = df1['dep_delay'] + df1['arr_delay'])\n",
        "print(df1)"
      ],
      "metadata": {
        "colab": {
          "base_uri": "https://localhost:8080/"
        },
        "id": "cP1BsD4oebDz",
        "outputId": "d85d9fa0-b6e2-4735-8433-9fec9611cf40"
      },
      "execution_count": null,
      "outputs": [
        {
          "output_type": "stream",
          "name": "stdout",
          "text": [
            "       dep_time  dep_delay  arr_time  arr_delay tailnum dest  total_delay\n",
            "0           940       15.0      1216         -4  N626VA  LAX         11.0\n",
            "1          1657       -3.0      2104         10  N3760C  SJU          7.0\n",
            "2           859       -1.0      1238         11  N712TW  LAX         10.0\n",
            "3          1841       -4.0      2122        -34  N914DL  TPA        -38.0\n",
            "5          1817       -3.0      2008          3  N3AXAA  ORD          0.0\n",
            "...         ...        ...       ...        ...     ...  ...          ...\n",
            "32720      1023       -7.0      1341        -24  N842VA  SFO        -31.0\n",
            "32722       600        0.0       822         -8  N3ERAA  DFW         -8.0\n",
            "32726      1558       -2.0      1854          4  N3737C  DEN          2.0\n",
            "32731       812       -3.0      1043          8  N6713Y  LAS          5.0\n",
            "32732      1057       -1.0      1319        -19  N77871  IAH        -20.0\n",
            "\n",
            "[17839 rows x 7 columns]\n"
          ]
        }
      ]
    },
    {
      "cell_type": "markdown",
      "source": [
        "#Q4: Grouping\n",
        "Group \"df\" according to “months” and find the average \"air time\" and \"maximum\n",
        "distance\" traveled. Use groupby() and agg() functions.\n",
        "\n"
      ],
      "metadata": {
        "id": "J1s11FT7d85d"
      }
    },
    {
      "cell_type": "code",
      "source": [
        "df = df.groupby(df['month']).agg({'air_time': 'mean', 'distance': 'mean'})\n",
        "print(df)"
      ],
      "metadata": {
        "colab": {
          "base_uri": "https://localhost:8080/"
        },
        "id": "biDug_YCebZD",
        "outputId": "c6182a80-0b5c-4d11-d531-43c9a0232330"
      },
      "execution_count": null,
      "outputs": [
        {
          "output_type": "stream",
          "name": "stdout",
          "text": [
            "         air_time     distance\n",
            "month                         \n",
            "1      209.901390  1425.902052\n",
            "2      206.881762  1430.784389\n",
            "3      212.108209  1502.868159\n",
            "4      213.086844  1507.606610\n",
            "5      213.178157  1596.897611\n",
            "6      214.620516  1592.307747\n",
            "7      212.554622  1612.210784\n",
            "8      211.051525  1588.289492\n",
            "9      213.038517  1619.680959\n",
            "10     211.198107  1531.718729\n",
            "11     216.650190  1513.448035\n",
            "12     214.722749  1459.771919\n"
          ]
        }
      ]
    },
    {
      "cell_type": "markdown",
      "source": [
        "#Q5 Import student-por using pandas.\n",
        "How many features do we have in this\n",
        "dataset?\n"
      ],
      "metadata": {
        "id": "cjEvJ2RVd_hp"
      }
    },
    {
      "cell_type": "code",
      "source": [
        "sp = pd.read_csv('student-por.csv')\n",
        "print(sp, '\\n\\nThis dataset has', sp.shape[1], 'features.\\n13 basic features and 3 grade features')"
      ],
      "metadata": {
        "colab": {
          "base_uri": "https://localhost:8080/"
        },
        "id": "FxbdHCSxeb9X",
        "outputId": "52a9c608-b10a-406c-8c7a-0b4eb2636aac"
      },
      "execution_count": null,
      "outputs": [
        {
          "output_type": "stream",
          "name": "stdout",
          "text": [
            "     age  Medu  Fedu  traveltime  studytime  failures  famrel  freetime  \\\n",
            "0     18     4     4           2          2         0       4         3   \n",
            "1     17     1     1           1          2         0       5         3   \n",
            "2     15     1     1           1          2         0       4         3   \n",
            "3     15     4     2           1          3         0       3         2   \n",
            "4     16     3     3           1          2         0       4         3   \n",
            "..   ...   ...   ...         ...        ...       ...     ...       ...   \n",
            "644   19     2     3           1          3         1       5         4   \n",
            "645   18     3     1           1          2         0       4         3   \n",
            "646   18     1     1           2          2         0       1         1   \n",
            "647   17     3     1           2          1         0       2         4   \n",
            "648   18     3     2           3          1         0       4         4   \n",
            "\n",
            "     goout  Dalc  Walc  health  absences  G1  G2  G3  \n",
            "0        4     1     1       3         4   0  11  11  \n",
            "1        3     1     1       3         2   9  11  11  \n",
            "2        2     2     3       3         6  12  13  12  \n",
            "3        2     1     1       5         0  14  14  14  \n",
            "4        2     1     2       5         0  11  13  13  \n",
            "..     ...   ...   ...     ...       ...  ..  ..  ..  \n",
            "644      2     1     2       5         4  10  11  10  \n",
            "645      4     1     1       1         4  15  15  16  \n",
            "646      1     1     1       5         6  11  12   9  \n",
            "647      5     3     4       2         6  10  10  10  \n",
            "648      1     3     4       5         4  10  11  11  \n",
            "\n",
            "[649 rows x 16 columns] \n",
            "\n",
            "This dataset has 16 features.\n",
            "13 basic features and 3 grade features\n"
          ]
        }
      ]
    },
    {
      "cell_type": "markdown",
      "source": [
        "#Q6 Fit a simple linear regression model between:\n",
        "1. Study time and G1\n",
        "2. Study time and G2\n",
        "\n",
        "Which pair gave the best performance?"
      ],
      "metadata": {
        "id": "noJw4JsPd_6X"
      }
    },
    {
      "cell_type": "code",
      "source": [
        "x, g1, g2 = sp[['studytime']], sp['G1'], sp['G2']\n",
        "\n",
        "m1 = LinearRegression().fit(x, g1)\n",
        "m2 = LinearRegression().fit(x, g2)\n",
        "\n",
        "m1_res = m1.score(x, g1)\n",
        "m2_res = m2.score(x, g2)\n",
        "\n",
        "print('Linear regression Model 1 - \"Study time and G1\" result:', m1_res)\n",
        "print('Linear regression Model 2 - \"Study time and G2\" result:', m2_res)\n",
        "print('\\nBoth models have a weak linear relationship')\n",
        "\n",
        "if m1_res > m2_res:\n",
        "  print('\\nModel 1 - \"Study time and G1\" has a stronger fit by: ', m1_res-m2_res)\n",
        "elif m2_res > m1_res:\n",
        "  print('\\nModel 2 - \"Study time and G2\" has a stronger fit by: ', m2_res-m1_res)\n",
        "else:\n",
        "  print('\\nBoth models have a strong fit')"
      ],
      "metadata": {
        "colab": {
          "base_uri": "https://localhost:8080/"
        },
        "id": "A5w8oUrIecfd",
        "outputId": "7b566cb8-bdea-4fe8-866e-e5ea4b1ba940"
      },
      "execution_count": null,
      "outputs": [
        {
          "output_type": "stream",
          "name": "stdout",
          "text": [
            "Linear regression Model 1 - \"Study time and G1\" result: 0.06805596405355119\n",
            "Linear regression Model 2 - \"Study time and G2\" result: 0.05783928756147938\n",
            "\n",
            "Both models have a weak linear relationship\n",
            "\n",
            "Model 1 - \"Study time and G1\" has a stronger fit by:  0.010216676492071808\n"
          ]
        }
      ]
    },
    {
      "cell_type": "markdown",
      "source": [
        "#Q7 Is there a linear relationship between\n",
        "1. Absences and G1\n",
        "2. Absences and G2\n",
        "\n",
        "Find this by fitting a simple linear regression model."
      ],
      "metadata": {
        "id": "SAR-mEnVeAH0"
      }
    },
    {
      "cell_type": "code",
      "source": [
        "y = sp[['absences']]\n",
        "\n",
        "m1 = LinearRegression().fit(y, g1)\n",
        "m2 = LinearRegression().fit(y, g2)\n",
        "\n",
        "m1_res = m1.score(y, g1)\n",
        "m2_res = m2.score(y, g2)\n",
        "\n",
        "print('Linear regression Model 1 - \"Absences and G1\" result:', m1_res)\n",
        "print('Linear regression Model 2 - \"Absences and G2\" result:', m2_res)\n",
        "print('\\nBoth models have a weak linear relationship')\n",
        "\n",
        "if m1_res > m2_res:\n",
        "  print('\\nModel 1 - \"Absences and G1\" has a stronger fit by: ', m1_res-m2_res)\n",
        "elif m2_res > m1_res:\n",
        "  print('\\nModel 2 - \"Absences and G2\" has a stronger fit by: ', m2_res-m1_res)\n",
        "else:\n",
        "  print('\\nBoth models have a strong fit')\n"
      ],
      "metadata": {
        "colab": {
          "base_uri": "https://localhost:8080/"
        },
        "id": "r0iBufayedKH",
        "outputId": "deb07bce-0b8f-4d5c-8ed9-eb82f0d453f4"
      },
      "execution_count": null,
      "outputs": [
        {
          "output_type": "stream",
          "name": "stdout",
          "text": [
            "Linear regression Model 1 - \"Absences and G1\" result: 0.021652899351715327\n",
            "Linear regression Model 2 - \"Absences and G2\" result: 0.015561298426790882\n",
            "\n",
            "Both models have a weak linear relationship\n",
            "\n",
            "Model 1 - \"Absences and G1\" has a stronger fit by:  0.006091600924924445\n"
          ]
        }
      ]
    },
    {
      "cell_type": "markdown",
      "source": [
        "# Q8 Fit a multiple linear regression model between\n",
        "1. Total Grade “G3” and study time, absences.\n",
        "2. G3 and all 13 features\n",
        "\n",
        "Was there any change in performance when we added more features in part II of\n",
        "Q8? Justify your answer."
      ],
      "metadata": {
        "id": "OUwOPf_4eAbw"
      }
    },
    {
      "cell_type": "code",
      "source": [
        "g3 = sp['G3']\n",
        "x1 = sp[['studytime', 'absences']]\n",
        "y1 = sp[['age', 'Medu', 'Fedu', 'traveltime', 'studytime', 'failures', 'famrel', 'freetime', 'goout', 'Dalc',\\\n",
        "         'Walc', 'health', 'absences']]\n",
        "\n",
        "m1 = LinearRegression().fit(x1, g3)\n",
        "m2 = LinearRegression().fit(y1, g3)\n",
        "\n",
        "m1_res = m1.score(x1, g3)\n",
        "m2_res = m2.score(y1, g3)\n",
        "\n",
        "print('Multiple linear regression Model 1 - \"G3 and study time, absences\" result:', m1_res)\n",
        "print('Multiple linear regression Model 2 - \"G3 and all 13 features\" result:', m2_res)\n",
        "print('\\nBoth models have a weak multiple linear relationship but \\n\\\n",
        "Model 2 has better performance than Model 1 due to the extra features')\n",
        "\n",
        "if m1_res > m2_res:\n",
        "  print('\\nModel 1 - \"G3 and study time, absences\" has a stronger fit by: ', m1_res-m2_res)\n",
        "elif m2_res > m1_res:\n",
        "  print('\\nModel 2 - \"G3 and all 13 features\" has a stronger fit by: ', m2_res-m1_res)\n",
        "else:\n",
        "  print('\\nBoth models have a strong fit')"
      ],
      "metadata": {
        "colab": {
          "base_uri": "https://localhost:8080/"
        },
        "id": "AlibmhkEedkm",
        "outputId": "97036b3f-7777-4de3-dd55-0d3caca8df6c"
      },
      "execution_count": null,
      "outputs": [
        {
          "output_type": "stream",
          "name": "stdout",
          "text": [
            "Multiple linear regression Model 1 - \"G3 and study time, absences\" result: 0.06626876503146739\n",
            "Multiple linear regression Model 2 - \"G3 and all 13 features\" result: 0.25551725076491816\n",
            "\n",
            "Both models have a weak multiple linear relationship but \n",
            "Model 2 has better performance than Model 1 due to the extra features\n",
            "\n",
            "Model 2 - \"G3 and all 13 features\" has a stronger fit by:  0.18924848573345077\n"
          ]
        }
      ]
    }
  ]
}